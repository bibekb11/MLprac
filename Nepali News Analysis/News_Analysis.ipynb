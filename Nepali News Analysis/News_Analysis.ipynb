{
 "cells": [
  {
   "cell_type": "markdown",
   "metadata": {
    "id": "LnRKTrs9pd8O"
   },
   "source": [
    "## Objective\n",
    "- Learn the keywords of NLP\n",
    "- Understand basic of NLP\n",
    "- Explore the Bag of words for basic analysis of text\n",
    "\n"
   ]
  },
  {
   "cell_type": "markdown",
   "metadata": {
    "id": "B9bq4oXes_E-"
   },
   "source": [
    "## Dataset Preparation:\n",
    "\n",
    "Prepare the Nepali news dataset"
   ]
  },
  {
   "cell_type": "code",
   "execution_count": 4,
   "metadata": {
    "id": "eJPOguP3pdg2"
   },
   "outputs": [
    {
     "name": "stderr",
     "output_type": "stream",
     "text": [
      "[nltk_data] Downloading package punkt to\n",
      "[nltk_data]     C:\\Users\\Bibek\\AppData\\Roaming\\nltk_data...\n",
      "[nltk_data]   Package punkt is already up-to-date!\n"
     ]
    },
    {
     "data": {
      "text/plain": [
       "True"
      ]
     },
     "execution_count": 4,
     "metadata": {},
     "output_type": "execute_result"
    }
   ],
   "source": [
    "import nltk\n",
    "import pandas as pd\n",
    "import requests as req\n",
    "import matplotlib.pyplot as plt\n",
    "nltk.download('punkt')\n",
    "\n"
   ]
  },
  {
   "cell_type": "code",
   "execution_count": 5,
   "metadata": {},
   "outputs": [
    {
     "name": "stdout",
     "output_type": "stream",
     "text": [
      "                                                text        category\n",
      "0  राजस्व अनुसन्धान विभागले जयबाबा इँटा उद्योगविर...  अर्थ / वाणिज्य\n",
      "1  युरोपियन युनियन र चीन सरकार दुवैतिर समस्याको स...  अर्थ / वाणिज्य\n",
      "2  डेडिकेटेड तथा टंकलाइनबापतको उठ्नुपर्ने २० अर्ब...  अर्थ / वाणिज्य\n",
      "3  मुलुकबाट गत वर्ष ४ लाख ५२ हजार रुपैयाँ बराबरको...  अर्थ / वाणिज्य\n",
      "4  सरकारको कसिलो नीति, पूर्वाधार अभाव, कर्जा प्रव...  अर्थ / वाणिज्य\n"
     ]
    }
   ],
   "source": [
    "url = 'https://github.com/bibekb11/nepalinewsdataset/raw/main/nepalidataset.xlsx'\n",
    "xlfile = req.get(url)\n",
    "xl = pd.read_excel(xlfile.content)\n",
    "print(xl.head())\n"
   ]
  },
  {
   "cell_type": "markdown",
   "metadata": {
    "id": "zUE4li1lt1Aj"
   },
   "source": [
    "Frequency Analysis"
   ]
  },
  {
   "cell_type": "code",
   "execution_count": 6,
   "metadata": {
    "id": "srs4zKYVt1Ao"
   },
   "outputs": [],
   "source": [
    "\n",
    "from nltk.tokenize import word_tokenize\n",
    "from nltk.corpus import stopwords\n",
    "from nltk import FreqDist\n",
    "import string\n",
    "\n"
   ]
  },
  {
   "cell_type": "code",
   "execution_count": 7,
   "metadata": {},
   "outputs": [
    {
     "name": "stdout",
     "output_type": "stream",
     "text": [
      "[(\"'\", 41), (',', 36), ('।', 30), ('छ', 15), ('र', 12), ('भएको', 11), ('गरेको', 9), ('छ\\\\xa0।', 7), ('आएको', 6), ('नेपाल', 6)]\n"
     ]
    }
   ],
   "source": [
    "#converting text column to list\n",
    "text = xl['text'].tolist()\n",
    "\n",
    "#converting list to string\n",
    "text_var = str(text)\n",
    "\n",
    "#tokenization\n",
    "tokens = word_tokenize(text_var)\n",
    "\n",
    "# Calculate word frequencies\n",
    "frequency_distribution = FreqDist(tokens)\n",
    "\n",
    "# Display the most common words and their frequencies\n",
    "common_words = frequency_distribution.most_common(10)\n",
    "\n",
    "print(common_words)\n",
    "\n"
   ]
  },
  {
   "cell_type": "markdown",
   "metadata": {
    "id": "Q1h3Hpzit1RZ"
   },
   "source": [
    "## Task  2.2: Filter Stop words\n",
    "\n",
    "Improve Performance analysis by filtering stop words\n"
   ]
  },
  {
   "cell_type": "code",
   "execution_count": 8,
   "metadata": {
    "id": "bwjPTC2Ht1Rb"
   },
   "outputs": [
    {
     "name": "stdout",
     "output_type": "stream",
     "text": [
      "[(\"'\", 41), ('आएको', 6), ('नेपाल', 6), ('भएका', 5), ('अटो', 4), ('इन्जिनियरिङ', 4), ('विश्वविद्यालयको', 4), ('सरकार', 3), ('लागेको', 3), ('लाइन', 3)]\n"
     ]
    }
   ],
   "source": [
    "stop_words = set(stopwords.words('nepali'))\n",
    "other_characters = [',', '।', 'छ\\\\xa0।', '(', ')', 'छन्\\\\xa0।'] \n",
    "final_stopwords = list(stop_words)+list(other_characters)\n",
    "filtered_tokens = []\n",
    "\n",
    "for token in tokens:\n",
    "    if token not in final_stopwords:\n",
    "        filtered_tokens.append(token)\n",
    "\n",
    "frequency_distribution = FreqDist(filtered_tokens)\n",
    "print(frequency_distribution.most_common(10))\n",
    "\n"
   ]
  },
  {
   "cell_type": "markdown",
   "metadata": {
    "id": "vzB9KKCft1m4"
   },
   "source": [
    "## Task 3: BoW\n",
    "\n",
    "Task 3: BoW: Prepare Bag of Words (BoW) from the dataset\n"
   ]
  },
  {
   "cell_type": "code",
   "execution_count": 9,
   "metadata": {
    "id": "8QopY4_5t1m5"
   },
   "outputs": [
    {
     "data": {
      "text/html": [
       "<div>\n",
       "<style scoped>\n",
       "    .dataframe tbody tr th:only-of-type {\n",
       "        vertical-align: middle;\n",
       "    }\n",
       "\n",
       "    .dataframe tbody tr th {\n",
       "        vertical-align: top;\n",
       "    }\n",
       "\n",
       "    .dataframe thead th {\n",
       "        text-align: right;\n",
       "    }\n",
       "</style>\n",
       "<table border=\"1\" class=\"dataframe\">\n",
       "  <thead>\n",
       "    <tr style=\"text-align: right;\">\n",
       "      <th></th>\n",
       "      <th>अख</th>\n",
       "      <th>अट</th>\n",
       "      <th>अद</th>\n",
       "      <th>अध</th>\n",
       "      <th>अन</th>\n",
       "      <th>अप</th>\n",
       "      <th>अफ</th>\n",
       "      <th>अब</th>\n",
       "      <th>अभ</th>\n",
       "      <th>अर</th>\n",
       "      <th>...</th>\n",
       "      <th>२०७८</th>\n",
       "      <th>२०७९</th>\n",
       "      <th>२१</th>\n",
       "      <th>२३</th>\n",
       "      <th>३७</th>\n",
       "      <th>५०</th>\n",
       "      <th>५२</th>\n",
       "      <th>७२</th>\n",
       "      <th>७८</th>\n",
       "      <th>९८</th>\n",
       "    </tr>\n",
       "  </thead>\n",
       "  <tbody>\n",
       "    <tr>\n",
       "      <th>0</th>\n",
       "      <td>0</td>\n",
       "      <td>0</td>\n",
       "      <td>1</td>\n",
       "      <td>0</td>\n",
       "      <td>1</td>\n",
       "      <td>0</td>\n",
       "      <td>0</td>\n",
       "      <td>0</td>\n",
       "      <td>0</td>\n",
       "      <td>0</td>\n",
       "      <td>...</td>\n",
       "      <td>0</td>\n",
       "      <td>0</td>\n",
       "      <td>0</td>\n",
       "      <td>0</td>\n",
       "      <td>0</td>\n",
       "      <td>0</td>\n",
       "      <td>0</td>\n",
       "      <td>0</td>\n",
       "      <td>1</td>\n",
       "      <td>0</td>\n",
       "    </tr>\n",
       "    <tr>\n",
       "      <th>1</th>\n",
       "      <td>0</td>\n",
       "      <td>0</td>\n",
       "      <td>0</td>\n",
       "      <td>0</td>\n",
       "      <td>0</td>\n",
       "      <td>0</td>\n",
       "      <td>0</td>\n",
       "      <td>0</td>\n",
       "      <td>0</td>\n",
       "      <td>0</td>\n",
       "      <td>...</td>\n",
       "      <td>0</td>\n",
       "      <td>0</td>\n",
       "      <td>0</td>\n",
       "      <td>0</td>\n",
       "      <td>0</td>\n",
       "      <td>0</td>\n",
       "      <td>0</td>\n",
       "      <td>0</td>\n",
       "      <td>0</td>\n",
       "      <td>0</td>\n",
       "    </tr>\n",
       "    <tr>\n",
       "      <th>2</th>\n",
       "      <td>0</td>\n",
       "      <td>0</td>\n",
       "      <td>0</td>\n",
       "      <td>0</td>\n",
       "      <td>0</td>\n",
       "      <td>0</td>\n",
       "      <td>0</td>\n",
       "      <td>0</td>\n",
       "      <td>0</td>\n",
       "      <td>1</td>\n",
       "      <td>...</td>\n",
       "      <td>0</td>\n",
       "      <td>0</td>\n",
       "      <td>0</td>\n",
       "      <td>0</td>\n",
       "      <td>0</td>\n",
       "      <td>0</td>\n",
       "      <td>0</td>\n",
       "      <td>0</td>\n",
       "      <td>0</td>\n",
       "      <td>0</td>\n",
       "    </tr>\n",
       "    <tr>\n",
       "      <th>3</th>\n",
       "      <td>0</td>\n",
       "      <td>0</td>\n",
       "      <td>0</td>\n",
       "      <td>0</td>\n",
       "      <td>1</td>\n",
       "      <td>0</td>\n",
       "      <td>0</td>\n",
       "      <td>0</td>\n",
       "      <td>0</td>\n",
       "      <td>1</td>\n",
       "      <td>...</td>\n",
       "      <td>0</td>\n",
       "      <td>0</td>\n",
       "      <td>0</td>\n",
       "      <td>0</td>\n",
       "      <td>0</td>\n",
       "      <td>1</td>\n",
       "      <td>1</td>\n",
       "      <td>0</td>\n",
       "      <td>0</td>\n",
       "      <td>0</td>\n",
       "    </tr>\n",
       "    <tr>\n",
       "      <th>4</th>\n",
       "      <td>0</td>\n",
       "      <td>4</td>\n",
       "      <td>0</td>\n",
       "      <td>0</td>\n",
       "      <td>0</td>\n",
       "      <td>1</td>\n",
       "      <td>0</td>\n",
       "      <td>1</td>\n",
       "      <td>1</td>\n",
       "      <td>0</td>\n",
       "      <td>...</td>\n",
       "      <td>0</td>\n",
       "      <td>0</td>\n",
       "      <td>0</td>\n",
       "      <td>0</td>\n",
       "      <td>0</td>\n",
       "      <td>0</td>\n",
       "      <td>0</td>\n",
       "      <td>0</td>\n",
       "      <td>0</td>\n",
       "      <td>0</td>\n",
       "    </tr>\n",
       "  </tbody>\n",
       "</table>\n",
       "<p>5 rows × 343 columns</p>\n",
       "</div>"
      ],
      "text/plain": [
       "   अख  अट  अद  अध  अन  अप  अफ  अब  अभ  अर  ...  २०७८  २०७९  २१  २३  ३७  ५०  \\\n",
       "0   0   0   1   0   1   0   0   0   0   0  ...     0     0   0   0   0   0   \n",
       "1   0   0   0   0   0   0   0   0   0   0  ...     0     0   0   0   0   0   \n",
       "2   0   0   0   0   0   0   0   0   0   1  ...     0     0   0   0   0   0   \n",
       "3   0   0   0   0   1   0   0   0   0   1  ...     0     0   0   0   0   1   \n",
       "4   0   4   0   0   0   1   0   1   1   0  ...     0     0   0   0   0   0   \n",
       "\n",
       "   ५२  ७२  ७८  ९८  \n",
       "0   0   0   1   0  \n",
       "1   0   0   0   0  \n",
       "2   0   0   0   0  \n",
       "3   1   0   0   0  \n",
       "4   0   0   0   0  \n",
       "\n",
       "[5 rows x 343 columns]"
      ]
     },
     "execution_count": 9,
     "metadata": {},
     "output_type": "execute_result"
    }
   ],
   "source": [
    "from sklearn.feature_extraction.text import CountVectorizer\n",
    "# Create a CountVectorizer object\n",
    "vectorizer = CountVectorizer()\n",
    "# Fit and transform the text data to create the BoW representation\n",
    "X_bow = vectorizer.fit_transform(xl['text'])\n",
    "# Convert the BoW representation to a DataFrame with feature names\n",
    "bow_df = pd.DataFrame(X_bow.toarray(), columns=vectorizer.get_feature_names_out())\n",
    "\n",
    "bow_df.head()\n"
   ]
  },
  {
   "cell_type": "markdown",
   "metadata": {
    "id": "kCtEg1LNt3CO"
   },
   "source": [
    "Classification\n",
    "\n"
   ]
  },
  {
   "cell_type": "code",
   "execution_count": 11,
   "metadata": {
    "id": "Jn6lGM75t3CP"
   },
   "outputs": [
    {
     "name": "stdout",
     "output_type": "stream",
     "text": [
      "Accuracy: 0.4\n"
     ]
    }
   ],
   "source": [
    "from sklearn.model_selection import train_test_split\n",
    "from sklearn.naive_bayes import MultinomialNB\n",
    "from sklearn.metrics import accuracy_score\n",
    "# Split the dataset into training and testing sets\n",
    "X_train, X_test, y_train, y_test = train_test_split(bow_df, xl['category'], test_size=0.2, random_state=10)\n",
    "\n",
    "# Create a Naive Bayes classifier\n",
    "clf = MultinomialNB()\n",
    "#training classifier\n",
    "clf.fit(X_train, y_train)\n",
    "#category prediction\n",
    "y_pred = clf.predict(X_test)\n",
    "accuracy = accuracy_score(y_test, y_pred)\n",
    "print(\"Accuracy:\", accuracy)"
   ]
  }
 ],
 "metadata": {
  "colab": {
   "provenance": []
  },
  "kernelspec": {
   "display_name": "Python 3",
   "name": "python3"
  },
  "language_info": {
   "codemirror_mode": {
    "name": "ipython",
    "version": 3
   },
   "file_extension": ".py",
   "mimetype": "text/x-python",
   "name": "python",
   "nbconvert_exporter": "python",
   "pygments_lexer": "ipython3",
   "version": "3.11.0"
  }
 },
 "nbformat": 4,
 "nbformat_minor": 0
}
